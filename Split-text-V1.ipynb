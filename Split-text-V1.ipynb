{
 "cells": [
  {
   "cell_type": "code",
   "execution_count": null,
   "id": "b29bb8f0",
   "metadata": {},
   "outputs": [
    {
     "name": "stderr",
     "output_type": "stream",
     "text": [
      "| 2025-06-28 16:05:59,064 | \u001b[1;32mINFO\u001b[0m | khmer-nltk | Loaded model from /media/thareah/New Volume/Font-text-OCR/Test-version/env/lib/python3.12/site-packages/khmernltk/word_tokenize/sklearn_crf_ner_10000.sav |\n"
     ]
    },
    {
     "name": "stdout",
     "output_type": "stream",
     "text": [
      "['មក', 'ទល់', 'បច្ចុប្បន្ន', ' ', 'នៅក្នុង', 'ប្រទេស', 'កម្ពុជា', 'មាន', 'តំបន់', 'សេដ្ឋកិច្ច', 'ពិសេស', 'ចំនួន', '៤៤', ' ', 'ដែល', 'កំពុង', 'ជួយ', 'ជំរុញ', 'ប្រតិបត្តិការ', 'នាំចេញ', 'ផលិតផល', 'ក្នុង', 'ស្រុក', 'បាន', 'រហូតដល់', ' ', '២៣ភាគរយ', ' ', 'ទៅ', ' ', '២៥', 'ភាគរយ', ' ', 'នៃ', 'ការនាំចេញ', 'សរុប', 'របស់', 'កម្ពុជា', 'ទៅកាន់', 'ទីផ្សារ', 'ពិភពលោក', 'ចាប់ពី', 'ឆ្នាំ', '២៦២២', ' ', 'ដល់', 'ឆ្នាំ', '២៦២៤', '។']\n"
     ]
    }
   ],
   "source": [
    "from khmernltk import word_tokenize\n",
    "\n",
    "khmer_text = \"មកទល់បច្ចុប្បន្ន នៅក្នុងប្រទេសកម្ពុជាមានតំបន់សេដ្ឋកិច្ចពិសេសចំនួន៤៤ ដែលកំពុងជួយជំរុញប្រតិបត្តិការនាំចេញផលិតផលក្នុងស្រុកបានរហូតដល់ ២៣ភាគរយ ទៅ ២៥ភាគរយ នៃការនាំចេញសរុបរបស់កម្ពុជាទៅកាន់ទីផ្សារពិភពលោកចាប់ពីឆ្នាំ២៦២២ ដល់ឆ្នាំ២៦២៤។\"\n",
    "\n",
    "print(word_tokenize(khmer_text, return_tokens=True))\n"
   ]
  },
  {
   "cell_type": "code",
   "execution_count": 9,
   "id": "21e80d58",
   "metadata": {},
   "outputs": [
    {
     "name": "stdout",
     "output_type": "stream",
     "text": [
      "Total cleaned tokens: 37\n",
      "Generated 10 lines with dynamic lengths\n",
      "✅ Image generation completed!\n",
      "✅ CSV labels saved!\n"
     ]
    }
   ],
   "source": [
    "import os\n",
    "import cv2\n",
    "import random\n",
    "import pandas as pd\n",
    "import numpy as np\n",
    "from PIL import Image, ImageDraw, ImageFont\n",
    "from khmernltk import word_tokenize\n",
    "import re # Import regex module for sanitization\n",
    "\n",
    "\n",
    "# ========== CONFIG ==========\n",
    "khmer_text = \"\"\"\n",
    "មកទល់បច្ចុប្បន្ន នៅក្នុងប្រទេសកម្ពុជាមានតំបន់សេដ្ឋកិច្ចពិសេសចំនួន៤៤ ដែលកំពុងជួយជំរុញប្រតិបត្តិការនាំចេញផលិតផលក្នុងស្រុកបានរហូតដល់ ២៣ភាគរយ ទៅ ២៥ភាគរយ នៃការនាំចេញសរុបរបស់កម្ពុជាទៅកាន់ទីផ្សារពិភពលោក។។\n",
    "\"\"\"\n",
    "\n",
    "output_folder = \"output_images\"\n",
    "os.makedirs(output_folder, exist_ok=True)\n",
    "\n",
    "font_path = \"Font/khmerOS.ttf\"  # Path to your Khmer font file\n",
    "font_size = 32\n",
    "\n",
    "image_size = (600, 80)  # Width, Height\n",
    "\n",
    "\n",
    "# ========== WORD TOKENIZE WITH KHMERNLTK ==========\n",
    "raw_tokens = word_tokenize(khmer_text, return_tokens=True)\n",
    "cleaned_tokens = [t for t in raw_tokens if t.strip() != '']\n",
    "print(f\"Total cleaned tokens: {len(cleaned_tokens)}\")\n",
    "\n",
    "\n",
    "# ========== DYNAMIC SPLIT FUNCTION ==========\n",
    "def split_khmer_paragraph_dynamic(tokens, min_words=3, max_words=8):\n",
    "    chunks = []\n",
    "    i = 0\n",
    "    while i < len(tokens):\n",
    "        group_size = random.randint(min_words, max_words)\n",
    "        chunk = tokens[i:i + group_size]\n",
    "        if chunk:\n",
    "            chunks.append(' '.join(chunk))\n",
    "        i += group_size\n",
    "    return chunks\n",
    "\n",
    "# ========== SPLIT TO LINES USING DYNAMIC FUNCTION ==========\n",
    "lines = split_khmer_paragraph_dynamic(cleaned_tokens, min_words=3, max_words=5)\n",
    "print(f\"Generated {len(lines)} lines with dynamic lengths\")\n",
    "\n",
    "# ========== HELPER FUNCTION TO SANITIZE TEXT FOR FILENAME ==========\n",
    "def sanitize_filename_text(text, max_len=50):\n",
    "    # Replace spaces with underscores\n",
    "    sanitized_text = text.replace(' ', '_')\n",
    "    # Remove any characters that are not alphanumeric, underscore, or Khmer characters\n",
    "    # This regex is simplified and might need adjustment for extremely rare Khmer characters\n",
    "    # For common Khmer characters, \\p{Khmer} (Unicode property) is useful but re module needs 'regex' engine\n",
    "    # For basic usage, replacing non-word characters and non-Khmer is a good start.\n",
    "    # We'll use a more general approach here to replace non-alphanumeric and non-underscore with nothing\n",
    "    sanitized_text = re.sub(r'[^\\w\\u1780-\\u17FF_]', '', sanitized_text) # \\u1780-\\u17FF is the Unicode range for Khmer script\n",
    "    # Collapse multiple underscores to one\n",
    "    sanitized_text = re.sub(r'_+', '_', sanitized_text)\n",
    "    # Remove leading/trailing underscores\n",
    "    sanitized_text = sanitized_text.strip('_')\n",
    "\n",
    "    # Truncate if too long\n",
    "    if len(sanitized_text) > max_len:\n",
    "        sanitized_text = sanitized_text[:max_len] + \"...\" # Add ellipsis to indicate truncation\n",
    "\n",
    "    return sanitized_text\n",
    "\n",
    "# ========== GENERATE IMAGES FUNCTION ==========\n",
    "def generate_text_image(text, filename, variant=\"clean\"):\n",
    "    img = Image.new('RGB', image_size, color=(255, 255, 255))\n",
    "    draw = ImageDraw.Draw(img)\n",
    "\n",
    "    try:\n",
    "        font = ImageFont.truetype(font_path, font_size)\n",
    "    except Exception:\n",
    "        raise Exception(\"Font file not found! Check the font_path.\")\n",
    "\n",
    "    bbox = draw.textbbox((0, 0), text, font=font)\n",
    "    w = bbox[2] - bbox[0]\n",
    "    h = bbox[3] - bbox[1]\n",
    "\n",
    "    x = (image_size[0] - w) / 2\n",
    "    y = (image_size[1] - h) / 2\n",
    "\n",
    "    draw.text((x, y), text, fill=(0, 0, 0), font=font)\n",
    "\n",
    "    img_path = os.path.join(output_folder, filename)\n",
    "\n",
    "    if variant == \"clean\":\n",
    "        img.save(img_path)\n",
    "    elif variant == \"blurred\":\n",
    "        img_cv = cv2.cvtColor(np.array(img), cv2.COLOR_RGB2BGR)\n",
    "        img_cv = cv2.GaussianBlur(img_cv, (5,5), 1)\n",
    "        cv2.imwrite(img_path, img_cv)\n",
    "    elif variant == \"noisy\":\n",
    "        img_cv = cv2.cvtColor(np.array(img), cv2.COLOR_RGB2BGR)\n",
    "        noise = np.random.randint(0, 50, (img_cv.shape[0], img_cv.shape[1], 3), dtype='uint8')\n",
    "        img_cv = cv2.add(img_cv, noise)\n",
    "        cv2.imwrite(img_path, img_cv)\n",
    "    elif variant == \"noise_blur\":\n",
    "        img_cv = cv2.cvtColor(np.array(img), cv2.COLOR_RGB2BGR)\n",
    "        noise = np.random.randint(0, 50, (img_cv.shape[0], img_cv.shape[1], 3), dtype='uint8')\n",
    "        img_cv = cv2.add(img_cv, noise)\n",
    "        img_cv = cv2.GaussianBlur(img_cv, (5,5), 1)\n",
    "        cv2.imwrite(img_path, img_cv)\n",
    "\n",
    "\n",
    "# ========== LOOP TO GENERATE ==========\n",
    "data = []\n",
    "variants = ['clean', 'blurred', 'noisy', 'noise_blur']\n",
    "\n",
    "for idx, line in enumerate(lines):\n",
    "    # Sanitize the line text for the filename\n",
    "    sanitized_line_text = sanitize_filename_text(line, max_len=40) # Adjust max_len as desired\n",
    "\n",
    "    for variant in variants:\n",
    "        # Construct the new filename with sanitized text\n",
    "        filename = f\"khmerOS_{sanitized_line_text}_{variant}.png\"\n",
    "        generate_text_image(line, filename, variant)\n",
    "        data.append({\n",
    "            'filename': filename,\n",
    "            'label': line,\n",
    "            'variant': variant\n",
    "        })\n",
    "\n",
    "print(\"✅ Image generation completed!\")\n",
    "\n",
    "\n",
    "# ========== SAVE CSV ==========\n",
    "df = pd.DataFrame(data)\n",
    "df.to_csv(os.path.join(output_folder, \"labels.csv\"), index=False, encoding='utf-8-sig')\n",
    "print(\"✅ CSV labels saved!\")"
   ]
  },
  {
   "cell_type": "code",
   "execution_count": 1,
   "id": "4f81b7a7",
   "metadata": {},
   "outputs": [
    {
     "ename": "ModuleNotFoundError",
     "evalue": "No module named 'paddleocr'",
     "output_type": "error",
     "traceback": [
      "\u001b[31m---------------------------------------------------------------------------\u001b[39m",
      "\u001b[31mModuleNotFoundError\u001b[39m                       Traceback (most recent call last)",
      "\u001b[36mCell\u001b[39m\u001b[36m \u001b[39m\u001b[32mIn[1]\u001b[39m\u001b[32m, line 1\u001b[39m\n\u001b[32m----> \u001b[39m\u001b[32m1\u001b[39m \u001b[38;5;28;01mfrom\u001b[39;00m\u001b[38;5;250m \u001b[39m\u001b[34;01mpaddleocr\u001b[39;00m\u001b[38;5;250m \u001b[39m\u001b[38;5;28;01mimport\u001b[39;00m PaddleOCR\n",
      "\u001b[31mModuleNotFoundError\u001b[39m: No module named 'paddleocr'"
     ]
    }
   ],
   "source": [
    "from paddleocr import PaddleOCR"
   ]
  }
 ],
 "metadata": {
  "kernelspec": {
   "display_name": "khnlp_fresh_conda_env",
   "language": "python",
   "name": "python3"
  },
  "language_info": {
   "codemirror_mode": {
    "name": "ipython",
    "version": 3
   },
   "file_extension": ".py",
   "mimetype": "text/x-python",
   "name": "python",
   "nbconvert_exporter": "python",
   "pygments_lexer": "ipython3",
   "version": "3.12.11"
  }
 },
 "nbformat": 4,
 "nbformat_minor": 5
}
