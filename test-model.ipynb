{
 "cells": [
  {
   "cell_type": "code",
   "execution_count": 1,
   "id": "d3cb4c02",
   "metadata": {},
   "outputs": [
    {
     "ename": "ModuleNotFoundError",
     "evalue": "No module named 'paddleocr'",
     "output_type": "error",
     "traceback": [
      "\u001b[31m---------------------------------------------------------------------------\u001b[39m",
      "\u001b[31mModuleNotFoundError\u001b[39m                       Traceback (most recent call last)",
      "\u001b[36mCell\u001b[39m\u001b[36m \u001b[39m\u001b[32mIn[1]\u001b[39m\u001b[32m, line 1\u001b[39m\n\u001b[32m----> \u001b[39m\u001b[32m1\u001b[39m \u001b[38;5;28;01mfrom\u001b[39;00m\u001b[38;5;250m \u001b[39m\u001b[34;01mpaddleocr\u001b[39;00m\u001b[38;5;250m \u001b[39m\u001b[38;5;28;01mimport\u001b[39;00m PaddleOCR\n\u001b[32m      2\u001b[39m \u001b[38;5;28;01mimport\u001b[39;00m\u001b[38;5;250m \u001b[39m\u001b[34;01mos\u001b[39;00m\n\u001b[32m      4\u001b[39m \u001b[38;5;66;03m# Define paths to your exported models and character dictionary\u001b[39;00m\n",
      "\u001b[31mModuleNotFoundError\u001b[39m: No module named 'paddleocr'"
     ]
    }
   ],
   "source": [
    "from paddleocr import PaddleOCR\n",
    "import os\n",
    "\n",
    "# Define paths to your exported models and character dictionary\n",
    "rec_model_dir = './output/khmer_rec_models/inference_model_best_accuracy' # <--- UPDATED PATH\n",
    "rec_char_dict_path = 'output_images/khmer_char_dict.txt' # **IMPORTANT: Keep using your actual dict path**\n",
    "\n",
    "# Initialize PaddleOCR\n",
    "ocr = PaddleOCR(use_angle_cls=False,\n",
    "                lang='en', # Or other appropriate lang, but rec_char_dict_path is key for custom\n",
    "                show_log=True,\n",
    "                rec_model_dir=rec_model_dir, # <--- Using the exported inference model\n",
    "                rec_char_dict_path=rec_char_dict_path\n",
    "               )\n",
    "\n",
    "# Example image path\n",
    "img_path = 'test-image/test1.png'\n",
    "\n",
    "if not os.path.exists(img_path):\n",
    "    print(f\"Error: Image not found at {img_path}\")\n",
    "else:\n",
    "    result = ocr.ocr(img_path, det=False) # det=False if you are only doing recognition on pre-cropped images\n",
    "                                        # or if you don't have a detection model.\n",
    "                                        # If you want full pipeline with a pre-trained DET, omit det=False\n",
    "    for line in result:\n",
    "        print(line)"
   ]
  }
 ],
 "metadata": {
  "kernelspec": {
   "display_name": "khnlp_env",
   "language": "python",
   "name": "python3"
  },
  "language_info": {
   "codemirror_mode": {
    "name": "ipython",
    "version": 3
   },
   "file_extension": ".py",
   "mimetype": "text/x-python",
   "name": "python",
   "nbconvert_exporter": "python",
   "pygments_lexer": "ipython3",
   "version": "3.12.11"
  }
 },
 "nbformat": 4,
 "nbformat_minor": 5
}
